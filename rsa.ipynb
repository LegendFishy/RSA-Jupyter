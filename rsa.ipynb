{
 "cells": [
  {
   "cell_type": "markdown",
   "id": "5c0f2948",
   "metadata": {},
   "source": [
    "### 1. Wahl zweier großer Primzahlen"
   ]
  },
  {
   "cell_type": "code",
   "execution_count": 19,
   "id": "b87b9450",
   "metadata": {},
   "outputs": [],
   "source": [
    "import random\n",
    "from math import gcd"
   ]
  },
  {
   "cell_type": "code",
   "execution_count": 20,
   "id": "9e20f94b",
   "metadata": {},
   "outputs": [
    {
     "data": {
      "text/plain": [
       "'\\nfor i in range(1, 100):\\n    if miller_rabin(i):\\n        print(i, end=\" \")\\n'"
      ]
     },
     "execution_count": 20,
     "metadata": {},
     "output_type": "execute_result"
    }
   ],
   "source": [
    "def miller_rabin(n, k=8):\n",
    "    \"\"\"\n",
    "    Sources: \n",
    "        https://en.wikipedia.org/wiki/Miller%E2%80%93Rabin_primality_test\n",
    "        https://github.com/kaushiksk/rsa-from-scratch\n",
    "    \"\"\"\n",
    "    if n == 2 or n == 3:\n",
    "        return True\n",
    "    if n < 2 or n % 2 == 0:\n",
    "        return False\n",
    "    \n",
    "    s, d = 0, n - 1\n",
    "    while d % 2 == 0:\n",
    "        s += 1\n",
    "        d //= 2\n",
    "\n",
    "    def iscomposite(a):\n",
    "        x = pow(a, d, n)\n",
    "        if x == 1 or x == n-1:\n",
    "            return False\n",
    "        for _ in range(s):\n",
    "            x = (x**2) % n\n",
    "            if x == n-1:\n",
    "                return False\n",
    "        return True\n",
    "    \n",
    "    for _ in range(k):\n",
    "        a = random.randint(2, n-1)\n",
    "        if iscomposite(a):\n",
    "            return False\n",
    "    return True\n",
    "\"\"\"\n",
    "for i in range(1, 100):\n",
    "    if miller_rabin(i):\n",
    "        print(i, end=\" \")\n",
    "\"\"\"\n"
   ]
  },
  {
   "cell_type": "code",
   "execution_count": 21,
   "id": "c38976af",
   "metadata": {},
   "outputs": [],
   "source": [
    "def generateprime(bits=100):\n",
    "    p = random.getrandbits(bits)\n",
    "    if not p % 2 == 1:\n",
    "        p += 1\n",
    "    while not miller_rabin(p):\n",
    "        p += 2\n",
    "    return p\n",
    "\n",
    "#generateprime(100)"
   ]
  },
  {
   "cell_type": "code",
   "execution_count": 22,
   "id": "77684d4a",
   "metadata": {},
   "outputs": [],
   "source": [
    "q = generateprime()\n",
    "p = generateprime()\n",
    "while q == p:\n",
    "    p = generateprime()"
   ]
  },
  {
   "cell_type": "markdown",
   "id": "240468fd",
   "metadata": {},
   "source": [
    "### 2. Berechnung des Moduls N"
   ]
  },
  {
   "cell_type": "code",
   "execution_count": 23,
   "id": "a525c089",
   "metadata": {},
   "outputs": [],
   "source": [
    "n = q * p"
   ]
  },
  {
   "cell_type": "markdown",
   "id": "6b5c4ed2",
   "metadata": {},
   "source": [
    "### 3. Berechnung der Eulerschen Phi-Funktion von N"
   ]
  },
  {
   "cell_type": "code",
   "execution_count": 24,
   "id": "3024a2e4",
   "metadata": {},
   "outputs": [],
   "source": [
    "phi = (p - 1) * (q - 1)"
   ]
  },
  {
   "cell_type": "markdown",
   "id": "1a8b54a8",
   "metadata": {},
   "source": [
    "### 4. Wahl eines Exponenten e"
   ]
  },
  {
   "cell_type": "code",
   "execution_count": 25,
   "id": "ee51ba90",
   "metadata": {},
   "outputs": [],
   "source": [
    "e = 65537\n",
    "while gcd(e, phi) != 1:\n",
    "    e = random.randint(2, phi-1)"
   ]
  },
  {
   "cell_type": "markdown",
   "id": "12398bad",
   "metadata": {},
   "source": [
    "### 5. Berechnung des privaten Schlüssels d"
   ]
  },
  {
   "cell_type": "code",
   "execution_count": 26,
   "id": "c2826d7c",
   "metadata": {},
   "outputs": [
    {
     "name": "stdout",
     "output_type": "stream",
     "text": [
      "Public Key: (65537, 296409672140808916660644165697174455370655867775579221203391), Private Key: (85145925015226035141268093800356865600596175877699542935873, 296409672140808916660644165697174455370655867775579221203391)\n"
     ]
    }
   ],
   "source": [
    "def xgcd(e, phi):\n",
    "    if e == 0:\n",
    "        return phi, 0, 1\n",
    "    \n",
    "    g, x1, y1 = xgcd(phi%e, e)\n",
    "\n",
    "    x = y1 - (phi//e) * x1\n",
    "    y = x1\n",
    "\n",
    "    return g, x, y\n",
    "\n",
    "def inverse(e, phi):\n",
    "    g, x, y = xgcd(e, phi)\n",
    "    return (x%phi + phi) % phi\n",
    "\n",
    "d = inverse(e, phi)\n",
    "\n",
    "public_key = (e, n)\n",
    "private_key = (d, n)\n",
    "\n",
    "print(f\"Public Key: {public_key}, Private Key: {private_key}\")\n"
   ]
  },
  {
   "cell_type": "markdown",
   "id": "8ec94228",
   "metadata": {},
   "source": [
    "## Verschlüsselung und Entschlüsselung"
   ]
  },
  {
   "cell_type": "code",
   "execution_count": null,
   "id": "fa95be0a",
   "metadata": {},
   "outputs": [
    {
     "name": "stdout",
     "output_type": "stream",
     "text": [
      "[104, 97, 108, 108, 111]\n"
     ]
    }
   ],
   "source": [
    "m = \"hallo\"\n",
    "ascii_value = [ord(i) for i in m]\n",
    "#print(ascii_value)"
   ]
  },
  {
   "cell_type": "markdown",
   "id": "dc9b42b6",
   "metadata": {},
   "source": [
    "### Verschlüsselung"
   ]
  },
  {
   "cell_type": "code",
   "execution_count": 28,
   "id": "b73729b7",
   "metadata": {},
   "outputs": [
    {
     "data": {
      "text/plain": [
       "[80847849026894272364299089673213378188430636424388960936076,\n",
       " 128133224288325922734782082170287314307435049121702390570954,\n",
       " 152029485094569774139142917578974501285738424717376986087719,\n",
       " 152029485094569774139142917578974501285738424717376986087719,\n",
       " 251729048083260835500682302414245878382851168191240086774547]"
      ]
     },
     "execution_count": 28,
     "metadata": {},
     "output_type": "execute_result"
    }
   ],
   "source": [
    "def encode(m, public_key):\n",
    "    e = public_key[0]\n",
    "    n = public_key[1]\n",
    "    return pow(m, e, n)\n",
    "\n",
    "c = [encode(m, public_key) for m in ascii_value]\n",
    "c"
   ]
  },
  {
   "cell_type": "markdown",
   "id": "bd4c544d",
   "metadata": {},
   "source": [
    "### Entschlüsselung"
   ]
  },
  {
   "cell_type": "code",
   "execution_count": 29,
   "id": "0844bdda",
   "metadata": {},
   "outputs": [
    {
     "name": "stdout",
     "output_type": "stream",
     "text": [
      "[104, 97, 108, 108, 111]\n",
      "hallo\n"
     ]
    }
   ],
   "source": [
    "def decode(c, private_key):\n",
    "    d = private_key[0]\n",
    "    n = private_key[1]\n",
    "    return pow(c, d, n)\n",
    "\n",
    "m = [decode(i, private_key) for i in c]\n",
    "print(m)\n",
    "m = \"\".join(chr(i) for i in m)\n",
    "print(m)"
   ]
  },
  {
   "cell_type": "code",
   "execution_count": null,
   "id": "b468c997",
   "metadata": {},
   "outputs": [],
   "source": []
  }
 ],
 "metadata": {
  "kernelspec": {
   "display_name": "inf",
   "language": "python",
   "name": "python3"
  },
  "language_info": {
   "codemirror_mode": {
    "name": "ipython",
    "version": 3
   },
   "file_extension": ".py",
   "mimetype": "text/x-python",
   "name": "python",
   "nbconvert_exporter": "python",
   "pygments_lexer": "ipython3",
   "version": "3.12.0"
  }
 },
 "nbformat": 4,
 "nbformat_minor": 5
}
